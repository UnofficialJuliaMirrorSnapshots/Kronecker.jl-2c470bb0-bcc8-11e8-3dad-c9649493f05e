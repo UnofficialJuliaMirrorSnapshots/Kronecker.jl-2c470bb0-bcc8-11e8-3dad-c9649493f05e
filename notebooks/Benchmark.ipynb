{
 "cells": [
  {
   "cell_type": "markdown",
   "metadata": {},
   "source": [
    "# Benchmarking Kronecker.jl\n",
    "\n",
    "In this notebook, we illustrate the basic functionality of `Kronecker.jl` and compare the runtime with native Julia code."
   ]
  },
  {
   "cell_type": "code",
   "execution_count": 1,
   "metadata": {},
   "outputs": [
    {
     "name": "stderr",
     "output_type": "stream",
     "text": [
      "┌ Info: Recompiling stale cache file /Users/michielstock/.julia/compiled/v1.1/Kronecker/6eght.ji for Kronecker [2c470bb0-bcc8-11e8-3dad-c9649493f05e]\n",
      "└ @ Base loading.jl:1184\n"
     ]
    }
   ],
   "source": [
    "using Kronecker, BenchmarkTools, LinearAlgebra"
   ]
  },
  {
   "cell_type": "markdown",
   "metadata": {},
   "source": [
    "## Basic functionality"
   ]
  },
  {
   "cell_type": "code",
   "execution_count": 2,
   "metadata": {
    "scrolled": true
   },
   "outputs": [],
   "source": [
    "# define some matrices\n",
    "\n",
    "A = randn(4, 4);\n",
    "B = Array{Float64, 2}([1 2 3;\n",
    "     4 5 6;\n",
    "     7 -2 9]);\n",
    "C = rand(5, 6);\n",
    "\n",
    "v = rand(12);"
   ]
  },
  {
   "cell_type": "markdown",
   "metadata": {},
   "source": [
    "A Kronecker product between two matrices (of the same type) is constructed using $\\otimes$, typed as `\\otimes TAB`. It is **not** directly evaluated unless we use `collect`."
   ]
  },
  {
   "cell_type": "code",
   "execution_count": 3,
   "metadata": {},
   "outputs": [
    {
     "data": {
      "text/plain": [
       "Kronecker system of the form A ⊗ B"
      ]
     },
     "execution_count": 3,
     "metadata": {},
     "output_type": "execute_result"
    }
   ],
   "source": [
    "K = A ⊗ B"
   ]
  },
  {
   "cell_type": "code",
   "execution_count": 4,
   "metadata": {
    "scrolled": false
   },
   "outputs": [
    {
     "data": {
      "text/plain": [
       "12×12 Array{Float64,2}:\n",
       "  0.435692   0.871385    1.30708  …  0.156728    0.313455   0.470183\n",
       "  1.74277    2.17846     2.61415     0.626911    0.783638   0.940366\n",
       "  3.04985   -0.871385    3.92123     1.09709    -0.313455   1.41055 \n",
       "  1.01061    2.02122     3.03183     0.995015    1.99003    2.98504 \n",
       "  4.04244    5.05305     6.06366     3.98006     4.97507    5.97009 \n",
       "  7.07427   -2.02122     9.09549  …  6.9651     -1.99003    8.95513 \n",
       "  1.47839    2.95678     4.43516     0.0382776   0.0765552  0.114833\n",
       "  5.91355    7.39194     8.87033     0.15311     0.191388   0.229666\n",
       " 10.3487    -2.95678    13.3055      0.267943   -0.0765552  0.344499\n",
       " -1.33299   -2.66597    -3.99896     0.396531    0.793061   1.18959 \n",
       " -5.33194   -6.66493    -7.99791  …  1.58612     1.98265    2.37918 \n",
       " -9.3309     2.66597   -11.9969      2.77571    -0.793061   3.56878 "
      ]
     },
     "execution_count": 4,
     "metadata": {},
     "output_type": "execute_result"
    }
   ],
   "source": [
    "collect(K)"
   ]
  },
  {
   "cell_type": "code",
   "execution_count": 5,
   "metadata": {},
   "outputs": [
    {
     "data": {
      "text/plain": [
       "-0.049554120708304394"
      ]
     },
     "execution_count": 5,
     "metadata": {},
     "output_type": "execute_result"
    }
   ],
   "source": [
    "K[3, 4]  # indexing works, computes result directly"
   ]
  },
  {
   "cell_type": "markdown",
   "metadata": {},
   "source": [
    "Compare with Julia native result."
   ]
  },
  {
   "cell_type": "code",
   "execution_count": 6,
   "metadata": {},
   "outputs": [
    {
     "data": {
      "text/plain": [
       "12×12 Array{Float64,2}:\n",
       "  0.435692   0.871385    1.30708  …  0.156728    0.313455   0.470183\n",
       "  1.74277    2.17846     2.61415     0.626911    0.783638   0.940366\n",
       "  3.04985   -0.871385    3.92123     1.09709    -0.313455   1.41055 \n",
       "  1.01061    2.02122     3.03183     0.995015    1.99003    2.98504 \n",
       "  4.04244    5.05305     6.06366     3.98006     4.97507    5.97009 \n",
       "  7.07427   -2.02122     9.09549  …  6.9651     -1.99003    8.95513 \n",
       "  1.47839    2.95678     4.43516     0.0382776   0.0765552  0.114833\n",
       "  5.91355    7.39194     8.87033     0.15311     0.191388   0.229666\n",
       " 10.3487    -2.95678    13.3055      0.267943   -0.0765552  0.344499\n",
       " -1.33299   -2.66597    -3.99896     0.396531    0.793061   1.18959 \n",
       " -5.33194   -6.66493    -7.99791  …  1.58612     1.98265    2.37918 \n",
       " -9.3309     2.66597   -11.9969      2.77571    -0.793061   3.56878 "
      ]
     },
     "execution_count": 6,
     "metadata": {},
     "output_type": "execute_result"
    }
   ],
   "source": [
    "X = kron(A, B)"
   ]
  },
  {
   "cell_type": "code",
   "execution_count": 7,
   "metadata": {},
   "outputs": [
    {
     "name": "stdout",
     "output_type": "stream",
     "text": [
      "  215.555 ns (1 allocation: 1.22 KiB)\n"
     ]
    },
    {
     "data": {
      "text/plain": [
       "12×12 Array{Float64,2}:\n",
       "  0.435692   0.871385    1.30708  …  0.156728    0.313455   0.470183\n",
       "  1.74277    2.17846     2.61415     0.626911    0.783638   0.940366\n",
       "  3.04985   -0.871385    3.92123     1.09709    -0.313455   1.41055 \n",
       "  1.01061    2.02122     3.03183     0.995015    1.99003    2.98504 \n",
       "  4.04244    5.05305     6.06366     3.98006     4.97507    5.97009 \n",
       "  7.07427   -2.02122     9.09549  …  6.9651     -1.99003    8.95513 \n",
       "  1.47839    2.95678     4.43516     0.0382776   0.0765552  0.114833\n",
       "  5.91355    7.39194     8.87033     0.15311     0.191388   0.229666\n",
       " 10.3487    -2.95678    13.3055      0.267943   -0.0765552  0.344499\n",
       " -1.33299   -2.66597    -3.99896     0.396531    0.793061   1.18959 \n",
       " -5.33194   -6.66493    -7.99791  …  1.58612     1.98265    2.37918 \n",
       " -9.3309     2.66597   -11.9969      2.77571    -0.793061   3.56878 "
      ]
     },
     "execution_count": 7,
     "metadata": {},
     "output_type": "execute_result"
    }
   ],
   "source": [
    "@btime kron($A, $B)  # computational intensive!"
   ]
  },
  {
   "cell_type": "markdown",
   "metadata": {},
   "source": [
    "Basic algebraic properties can be computed, but much faster. Note that we compare using the **precomputed** Kronecker product, something which is not even possible for realistic matrices."
   ]
  },
  {
   "cell_type": "markdown",
   "metadata": {},
   "source": [
    "### Trace"
   ]
  },
  {
   "cell_type": "code",
   "execution_count": 8,
   "metadata": {},
   "outputs": [
    {
     "name": "stdout",
     "output_type": "stream",
     "text": [
      "  14.897 ns (1 allocation: 32 bytes)\n"
     ]
    },
    {
     "data": {
      "text/plain": [
       "4.859198012490642"
      ]
     },
     "execution_count": 8,
     "metadata": {},
     "output_type": "execute_result"
    }
   ],
   "source": [
    "@btime tr($A ⊗ $B)"
   ]
  },
  {
   "cell_type": "code",
   "execution_count": 9,
   "metadata": {},
   "outputs": [
    {
     "name": "stdout",
     "output_type": "stream",
     "text": [
      "  10.412 ns (0 allocations: 0 bytes)\n"
     ]
    },
    {
     "data": {
      "text/plain": [
       "4.859198012490642"
      ]
     },
     "execution_count": 9,
     "metadata": {},
     "output_type": "execute_result"
    }
   ],
   "source": [
    "@btime tr($X)  # this excludes computing the Kronecker product"
   ]
  },
  {
   "cell_type": "markdown",
   "metadata": {},
   "source": [
    "### Determinant"
   ]
  },
  {
   "cell_type": "code",
   "execution_count": 10,
   "metadata": {},
   "outputs": [
    {
     "name": "stdout",
     "output_type": "stream",
     "text": [
      "  595.056 ns (7 allocations: 688 bytes)\n"
     ]
    },
    {
     "data": {
      "text/plain": [
       "1.0059371916772203e10"
      ]
     },
     "execution_count": 10,
     "metadata": {},
     "output_type": "execute_result"
    }
   ],
   "source": [
    "@btime det($A ⊗ $B)"
   ]
  },
  {
   "cell_type": "code",
   "execution_count": 11,
   "metadata": {},
   "outputs": [
    {
     "name": "stdout",
     "output_type": "stream",
     "text": [
      "  1.199 μs (3 allocations: 1.42 KiB)\n"
     ]
    },
    {
     "data": {
      "text/plain": [
       "1.0059371916772207e10"
      ]
     },
     "execution_count": 11,
     "metadata": {},
     "output_type": "execute_result"
    }
   ],
   "source": [
    "@btime det($X)"
   ]
  },
  {
   "cell_type": "markdown",
   "metadata": {},
   "source": [
    "### Matrix inverse"
   ]
  },
  {
   "cell_type": "code",
   "execution_count": 12,
   "metadata": {},
   "outputs": [
    {
     "name": "stdout",
     "output_type": "stream",
     "text": [
      "  1.341 μs (11 allocations: 4.52 KiB)\n"
     ]
    },
    {
     "data": {
      "text/plain": [
       "Kronecker system of the form A ⊗ B"
      ]
     },
     "execution_count": 12,
     "metadata": {},
     "output_type": "execute_result"
    }
   ],
   "source": [
    "@btime inv($A ⊗ $B)"
   ]
  },
  {
   "cell_type": "code",
   "execution_count": 13,
   "metadata": {
    "scrolled": true
   },
   "outputs": [
    {
     "name": "stdout",
     "output_type": "stream",
     "text": [
      "  1.577 μs (11 allocations: 5.70 KiB)\n"
     ]
    },
    {
     "data": {
      "text/plain": [
       "12×12 Array{Float64,2}:\n",
       " -0.0829946    0.0349451   0.00436814  …  -0.108404    -0.0135505 \n",
       " -0.00873627   0.0174725  -0.00873627     -0.0542018    0.0271009 \n",
       "  0.06261     -0.0232967   0.00436814      0.0722691   -0.0135505 \n",
       "  0.463642    -0.195218   -0.0244022       0.0747643    0.00934554\n",
       "  0.0488045   -0.0976089   0.0488045       0.0373821   -0.0186911 \n",
       " -0.349765     0.130145   -0.0244022   …  -0.0498429    0.00934554\n",
       " -0.738635     0.311004    0.0388755       0.00863079   0.00107885\n",
       " -0.077751     0.155502   -0.077751        0.0043154   -0.0021577 \n",
       "  0.557216    -0.207336    0.0388755      -0.00575386   0.00107885\n",
       "  0.454709    -0.191456   -0.023932        0.231532     0.0289416 \n",
       "  0.0478641   -0.0957281   0.0478641   …   0.115766    -0.0578831 \n",
       " -0.343026     0.127638   -0.023932       -0.154355     0.0289416 "
      ]
     },
     "execution_count": 13,
     "metadata": {},
     "output_type": "execute_result"
    }
   ],
   "source": [
    "@btime collect(inv($A ⊗ $B))  # inv returns an implict Kronecker structure"
   ]
  },
  {
   "cell_type": "code",
   "execution_count": 14,
   "metadata": {
    "scrolled": true
   },
   "outputs": [
    {
     "name": "stdout",
     "output_type": "stream",
     "text": [
      "  2.530 μs (5 allocations: 7.58 KiB)\n"
     ]
    },
    {
     "data": {
      "text/plain": [
       "12×12 Array{Float64,2}:\n",
       " -0.0829946    0.0349451   0.00436814  …  -0.108404    -0.0135505 \n",
       " -0.00873627   0.0174725  -0.00873627     -0.0542018    0.0271009 \n",
       "  0.06261     -0.0232967   0.00436814      0.0722691   -0.0135505 \n",
       "  0.463642    -0.195218   -0.0244022       0.0747643    0.00934554\n",
       "  0.0488045   -0.0976089   0.0488045       0.0373821   -0.0186911 \n",
       " -0.349765     0.130145   -0.0244022   …  -0.0498429    0.00934554\n",
       " -0.738635     0.311004    0.0388755       0.00863079   0.00107885\n",
       " -0.077751     0.155502   -0.077751        0.0043154   -0.0021577 \n",
       "  0.557216    -0.207336    0.0388755      -0.00575386   0.00107885\n",
       "  0.454709    -0.191456   -0.023932        0.231532     0.0289416 \n",
       "  0.0478641   -0.0957281   0.0478641   …   0.115766    -0.0578831 \n",
       " -0.343026     0.127638   -0.023932       -0.154355     0.0289416 "
      ]
     },
     "execution_count": 14,
     "metadata": {},
     "output_type": "execute_result"
    }
   ],
   "source": [
    "@btime inv($X)"
   ]
  },
  {
   "cell_type": "markdown",
   "metadata": {},
   "source": [
    "### Matrix vector multiplication\n",
    "\n",
    "One of the most important features is the efficient multiplication of a Kronecker product with a vector."
   ]
  },
  {
   "cell_type": "code",
   "execution_count": 15,
   "metadata": {},
   "outputs": [
    {
     "name": "stdout",
     "output_type": "stream",
     "text": [
      "  505.902 ns (9 allocations: 784 bytes)\n"
     ]
    },
    {
     "data": {
      "text/plain": [
       "12-element Array{Float64,1}:\n",
       "  3.8204226925149998 \n",
       " 10.879185005408887  \n",
       " 10.766707076363273  \n",
       " -0.5747672593272235 \n",
       " -0.20731224414692256\n",
       "  7.682539892084371  \n",
       " 12.535484172885637  \n",
       " 31.303135249155698  \n",
       " 25.14952036237209   \n",
       "  7.300407758930517  \n",
       " 17.795455719989135  \n",
       "  0.8126811170795302 "
      ]
     },
     "execution_count": 15,
     "metadata": {},
     "output_type": "execute_result"
    }
   ],
   "source": [
    "@btime ($A ⊗ $B) * $v"
   ]
  },
  {
   "cell_type": "code",
   "execution_count": 16,
   "metadata": {},
   "outputs": [
    {
     "name": "stdout",
     "output_type": "stream",
     "text": [
      "  330.686 ns (2 allocations: 1.39 KiB)\n"
     ]
    },
    {
     "data": {
      "text/plain": [
       "12-element Array{Float64,1}:\n",
       "  3.8204226925149998 \n",
       " 10.879185005408885  \n",
       " 10.766707076363275  \n",
       " -0.5747672593272233 \n",
       " -0.20731224414692395\n",
       "  7.68253989208437   \n",
       " 12.535484172885639  \n",
       " 31.303135249155698  \n",
       " 25.149520362372094  \n",
       "  7.3004077589305165 \n",
       " 17.795455719989132  \n",
       "  0.8126811170795301 "
      ]
     },
     "execution_count": 16,
     "metadata": {},
     "output_type": "execute_result"
    }
   ],
   "source": [
    "@btime kron($A, $B) * $v"
   ]
  },
  {
   "cell_type": "markdown",
   "metadata": {},
   "source": [
    "Using a somewhat larger example..."
   ]
  },
  {
   "cell_type": "code",
   "execution_count": 17,
   "metadata": {},
   "outputs": [],
   "source": [
    "C = rand(50, 60);\n",
    "D = randn(80, 50);\n",
    "u = collect(1.0:(50*60));"
   ]
  },
  {
   "cell_type": "code",
   "execution_count": 18,
   "metadata": {},
   "outputs": [
    {
     "name": "stdout",
     "output_type": "stream",
     "text": [
      "  25.757 μs (12 allocations: 82.55 KiB)\n"
     ]
    }
   ],
   "source": [
    "@btime (C ⊗ D) * u;"
   ]
  },
  {
   "cell_type": "code",
   "execution_count": 19,
   "metadata": {},
   "outputs": [
    {
     "name": "stdout",
     "output_type": "stream",
     "text": [
      "  23.897 ms (4 allocations: 91.58 MiB)\n"
     ]
    }
   ],
   "source": [
    "@btime kron(C, D) * u;"
   ]
  },
  {
   "cell_type": "code",
   "execution_count": 20,
   "metadata": {},
   "outputs": [
    {
     "data": {
      "text/plain": [
       "true"
      ]
     },
     "execution_count": 20,
     "metadata": {},
     "output_type": "execute_result"
    }
   ],
   "source": [
    "all(((C ⊗ D) * u) ≈ (kron(C, D) * u))"
   ]
  },
  {
   "cell_type": "markdown",
   "metadata": {},
   "source": [
    "## Indexed Krocker systems\n",
    "\n",
    "In many applications, one has to deal with incomplete Kronecker systems. Indexed systems are supported and Kronecker system-vector multiplications are supported using the generalized vec trick."
   ]
  },
  {
   "cell_type": "code",
   "execution_count": 21,
   "metadata": {},
   "outputs": [],
   "source": [
    "v = rand(10);\n",
    "\n",
    "# sizes\n",
    "a, b = 4, 8;\n",
    "c, d = 5, 9;\n",
    "\n",
    "# matrices\n",
    "M = randn(a, b);\n",
    "N = rand(c, d);\n",
    "\n",
    "# indices\n",
    "p = rand(1:a, 6);\n",
    "q = rand(1:c, 6);\n",
    "\n",
    "r = rand(1:b, 10);\n",
    "t = rand(1:d, 10);"
   ]
  },
  {
   "cell_type": "code",
   "execution_count": 22,
   "metadata": {
    "scrolled": true
   },
   "outputs": [
    {
     "data": {
      "text/plain": []
     },
     "execution_count": 22,
     "metadata": {},
     "output_type": "execute_result"
    },
    {
     "name": "stdout",
     "output_type": "stream",
     "text": [
      "Indexed Kronecker system of the form A ⊗ B\n"
     ]
    }
   ],
   "source": [
    "kronprod = N ⊗ M\n",
    "ikp = kronprod[p,q,r,t]  # subpart of the Kronecker system"
   ]
  },
  {
   "cell_type": "code",
   "execution_count": 23,
   "metadata": {},
   "outputs": [
    {
     "data": {
      "text/plain": [
       "6×10 Array{Float64,2}:\n",
       " -0.79884    0.304819   0.158234   …  -1.33391    1.21746   -0.00690708 \n",
       " -0.850978  -0.613535  -0.966669      -0.305549   0.307198   0.023155   \n",
       " -0.850978  -0.613535  -0.966669      -0.305549   0.307198   0.023155   \n",
       " -0.450945   0.352031   0.0414813     -0.349686   1.40602   -0.00536021 \n",
       " -0.794386   0.105433   0.0775616     -0.653843   0.421104  -0.000757542\n",
       "  0.651077  -0.551469  -0.229731   …  -0.248129  -1.18444    0.688593   "
      ]
     },
     "execution_count": 23,
     "metadata": {},
     "output_type": "execute_result"
    }
   ],
   "source": [
    "collect(ikp)"
   ]
  },
  {
   "cell_type": "code",
   "execution_count": 24,
   "metadata": {
    "scrolled": true
   },
   "outputs": [
    {
     "data": {
      "text/plain": [
       "6×10 Array{Float64,2}:\n",
       " -0.79884    0.304819   0.158234   …  -1.33391    1.21746   -0.00690708 \n",
       " -0.850978  -0.613535  -0.966669      -0.305549   0.307198   0.023155   \n",
       " -0.850978  -0.613535  -0.966669      -0.305549   0.307198   0.023155   \n",
       " -0.450945   0.352031   0.0414813     -0.349686   1.40602   -0.00536021 \n",
       " -0.794386   0.105433   0.0775616     -0.653843   0.421104  -0.000757542\n",
       "  0.651077  -0.551469  -0.229731   …  -0.248129  -1.18444    0.688593   "
      ]
     },
     "execution_count": 24,
     "metadata": {},
     "output_type": "execute_result"
    }
   ],
   "source": [
    "# computing this subsystem explicitely\n",
    "subsystem = kron(N, M)[a * (q .- 1) .+ p, b * (t .- 1) .+ r]"
   ]
  },
  {
   "cell_type": "markdown",
   "metadata": {},
   "source": [
    "### Multiplication"
   ]
  },
  {
   "cell_type": "code",
   "execution_count": 25,
   "metadata": {},
   "outputs": [
    {
     "name": "stdout",
     "output_type": "stream",
     "text": [
      "  545.663 ns (4 allocations: 560 bytes)\n"
     ]
    },
    {
     "data": {
      "text/plain": [
       "6-element Array{Float64,1}:\n",
       "  1.5470074607820292 \n",
       " -0.19497052505120305\n",
       " -0.19497052505120305\n",
       "  1.536201311420557  \n",
       "  0.8908172865470616 \n",
       " -1.2290139916080636 "
      ]
     },
     "execution_count": 25,
     "metadata": {},
     "output_type": "execute_result"
    }
   ],
   "source": [
    "@btime $ikp * $v"
   ]
  },
  {
   "cell_type": "code",
   "execution_count": 26,
   "metadata": {},
   "outputs": [
    {
     "name": "stdout",
     "output_type": "stream",
     "text": [
      "  2.225 μs (10 allocations: 12.94 KiB)\n"
     ]
    },
    {
     "data": {
      "text/plain": [
       "6-element Array{Float64,1}:\n",
       "  1.5470074607820292 \n",
       " -0.19497052505120305\n",
       " -0.19497052505120305\n",
       "  1.536201311420557  \n",
       "  0.8908172865470617 \n",
       " -1.2290139916080638 "
      ]
     },
     "execution_count": 26,
     "metadata": {},
     "output_type": "execute_result"
    }
   ],
   "source": [
    "@btime kron($N, $M)[$a * ($q .- 1) .+ $p, $b * ($t .- 1) .+ $r] * $v"
   ]
  },
  {
   "cell_type": "code",
   "execution_count": 27,
   "metadata": {},
   "outputs": [
    {
     "name": "stdout",
     "output_type": "stream",
     "text": [
      "  95.658 ns (1 allocation: 128 bytes)\n"
     ]
    },
    {
     "data": {
      "text/plain": [
       "6-element Array{Float64,1}:\n",
       "  1.5470074607820292 \n",
       " -0.19497052505120305\n",
       " -0.19497052505120305\n",
       "  1.536201311420557  \n",
       "  0.8908172865470617 \n",
       " -1.2290139916080638 "
      ]
     },
     "execution_count": 27,
     "metadata": {},
     "output_type": "execute_result"
    }
   ],
   "source": [
    "@btime $subsystem * $v  # to be fair, if the system fits into memory, it's faster"
   ]
  },
  {
   "cell_type": "markdown",
   "metadata": {},
   "source": [
    "## Shifted Kronecker systems"
   ]
  },
  {
   "cell_type": "code",
   "execution_count": 28,
   "metadata": {},
   "outputs": [],
   "source": [
    "# again, define some matrices\n",
    "# here, we explicitly work with symmetric matrices \n",
    "\n",
    "A = Symmetric(rand(10, 10));\n",
    "B = Symmetric(rand(30, 30));\n",
    "v = rand(300);"
   ]
  },
  {
   "cell_type": "markdown",
   "metadata": {},
   "source": [
    "### Solving a shifted Kronecker system"
   ]
  },
  {
   "cell_type": "code",
   "execution_count": 29,
   "metadata": {},
   "outputs": [
    {
     "name": "stdout",
     "output_type": "stream",
     "text": [
      "  203.134 μs (61 allocations: 66.17 KiB)\n"
     ]
    },
    {
     "data": {
      "text/plain": [
       "300-element Array{Float64,1}:\n",
       " -3.274721338014931  \n",
       "  1.1298259144726328 \n",
       "  4.408310687892794  \n",
       " -3.463691981306303  \n",
       "  3.6794707750568527 \n",
       " -5.569585446321778  \n",
       "  7.14918252998517   \n",
       "  0.33390940919512224\n",
       "  3.2394917001859453 \n",
       "  1.1118478984385893 \n",
       "  1.5210761959924386 \n",
       " -1.3598788195228384 \n",
       "  0.4389997075925702 \n",
       "  ⋮                  \n",
       " -5.088008751434819  \n",
       " -2.2531278065905416 \n",
       "  2.171994142861282  \n",
       "  4.559857625981706  \n",
       " -2.2662613500007267 \n",
       "  1.9581125757052313 \n",
       " -4.449356074264652  \n",
       "  2.8965707578516615 \n",
       " -1.2330881051338751 \n",
       "  3.044323471859763  \n",
       " -1.124142081665091  \n",
       " -2.046043173408333  "
      ]
     },
     "execution_count": 29,
     "metadata": {},
     "output_type": "execute_result"
    }
   ],
   "source": [
    "@btime ($A ⊗ $B + 2I) \\ $v"
   ]
  },
  {
   "cell_type": "code",
   "execution_count": 30,
   "metadata": {},
   "outputs": [
    {
     "name": "stdout",
     "output_type": "stream",
     "text": [
      "  1.238 ms (9 allocations: 2.07 MiB)\n"
     ]
    },
    {
     "data": {
      "text/plain": [
       "300-element Array{Float64,1}:\n",
       " -3.2747213380134044 \n",
       "  1.1298259144717184 \n",
       "  4.4083106878923335 \n",
       " -3.4636919813035876 \n",
       "  3.679470775055062  \n",
       " -5.569585446318218  \n",
       "  7.149182529982481  \n",
       "  0.33390940919652984\n",
       "  3.239491700182582  \n",
       "  1.1118478984408708 \n",
       "  1.5210761959914265 \n",
       " -1.3598788195238478 \n",
       "  0.438999707591998  \n",
       "  ⋮                  \n",
       " -5.088008751430712  \n",
       " -2.2531278065898266 \n",
       "  2.1719941428607537 \n",
       "  4.559857625979678  \n",
       " -2.2662613500002022 \n",
       "  1.9581125757043876 \n",
       " -4.449356074262929  \n",
       "  2.8965707578493536 \n",
       " -1.2330881051319902 \n",
       "  3.044323471857813  \n",
       " -1.1241420816634822 \n",
       " -2.0460431734057254 "
      ]
     },
     "execution_count": 30,
     "metadata": {},
     "output_type": "execute_result"
    }
   ],
   "source": [
    "@btime (kron($A, $B) + 2I) \\ $v"
   ]
  },
  {
   "cell_type": "code",
   "execution_count": null,
   "metadata": {},
   "outputs": [],
   "source": []
  }
 ],
 "metadata": {
  "@webio": {
   "lastCommId": null,
   "lastKernelId": null
  },
  "kernelspec": {
   "display_name": "Julia 1.1.0",
   "language": "julia",
   "name": "julia-1.1"
  },
  "language_info": {
   "file_extension": ".jl",
   "mimetype": "application/julia",
   "name": "julia",
   "version": "1.1.0"
  }
 },
 "nbformat": 4,
 "nbformat_minor": 2
}
